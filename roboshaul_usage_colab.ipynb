{
 "cells": [
  {
   "cell_type": "markdown",
   "metadata": {
    "id": "hfC5je0slzvh"
   },
   "source": [
    "### Hello there! 👋\n",
    "<a target=\"_blank\" href=\"https://colab.research.google.com/github/Sharonio/roboshaul/blob/main/roboshaul_usage_colab.ipynb\">\n",
    "  <img src=\"https://colab.research.google.com/assets/colab-badge.svg\" alt=\"Open In Colab\"/>\n",
    "</a>\n",
    "\n",
    "If you're interested in using Roboshaul to generate Hebrew text-to-speech, you've come to the right place! I'll guide you through the steps so that you can start using it in no time, even if you're new to machine learning.\n",
    "\n",
    "Here are the steps we'll follow in this tutorial:\n",
    "\n",
    "1. Import necessary Python libraries\n",
    "2. Download the trained version of the Roboshaul TTS model\n",
    "3. Download the trained version of the spectrogram-to-wav model, trained on Shaul Amsterdamski's voice\n",
    "4. Connect all the components and test the system by generating Hebrew text and hearing Roboshaul speak it out loud\n",
    "\n",
    "Let's get started! in the end you'll be able to use our trained model, and have results similar to the ones in this demo page:\n",
    "https://anonymous19283746.github.io/saspeech/"
   ]
  },
  {
   "cell_type": "markdown",
   "metadata": {
    "id": "2311a5Volzvj"
   },
   "source": [
    "The infratructure we will be using is Coqui TTS\n",
    "and you can learn more about it here: \n",
    "https://github.com/coqui-ai/TTS"
   ]
  },
  {
   "cell_type": "code",
   "execution_count": null,
   "metadata": {
    "colab": {
     "base_uri": "https://localhost:8080/"
    },
    "id": "kqD3_-gFlzvj",
    "outputId": "4e7540eb-35cd-4de9-9d55-d1e2a3aaf3af"
   },
   "outputs": [],
   "source": [
    "!git clone https://github.com/shenberg/TTS\n",
    "!pip install Cython # necessary for successful install of Coqui TTS\n",
    "!pip install -e TTS\n",
    "quit() # necessary because a new version of numpy is installed so we must restart the runtime"
   ]
  },
  {
   "cell_type": "markdown",
   "metadata": {
    "id": "288aqv7klzvk"
   },
   "source": [
    "#### Import necessary Python libraries"
   ]
  },
  {
   "cell_type": "code",
   "execution_count": null,
   "metadata": {
    "id": "-_WJX6oNlzvk"
   },
   "outputs": [],
   "source": [
    "import os\n",
    "import subprocess\n",
    "import signal\n",
    "import sys\n",
    "from pathlib import Path\n",
    "from IPython.display import Audio\n",
    "\n",
    "from google.colab import auth\n",
    "auth.authenticate_user()\n",
    "from googleapiclient.discovery import build\n",
    "drive_service = build('drive', 'v3')\n",
    "from googleapiclient.http import MediaIoBaseDownload\n",
    "\n",
    "def download_file_from_gdrive(file_id, dest_file_name):\n",
    "    request = drive_service.files().get_media(fileId=file_id)\n",
    "    with open(dest_file_name, 'wb') as downloaded:\n",
    "        downloader = MediaIoBaseDownload(downloaded, request)\n",
    "        done = False\n",
    "        while done is False:\n",
    "            # _ is a placeholder for a progress object that we ignore.\n",
    "            # (Our file is small, so we skip reporting progress.)\n",
    "            status, done = downloader.next_chunk()\n",
    "            print(f\"progress: {status.progress():.1%}\")"
   ]
  },
  {
   "cell_type": "markdown",
   "metadata": {
    "id": "mU0Yutkwlzvk"
   },
   "source": [
    "#### Adding diacritics (Nikud) to Hebrew text\n",
    "Our input has to have Nikud in order to turn Hebrew text into good sounding audio"
   ]
  },
  {
   "cell_type": "markdown",
   "metadata": {
    "id": "lxWTKPVnlzvk"
   },
   "source": [
    "There are 2 places where you can add Nikud easily online:\n",
    "- https://nakdan.dicta.org.il/\n",
    "- https://www.nakdan.com/\n",
    "\n",
    "(When we trained our TTS model we used this repository to automate the process: https://github.com/elazarg/nakdimon (give it a ⭐️ on GitHub), by the way, if you are advanced in coding and would want to help this repository - integrating the Nikud process to this notebook can be a meanigful contribution)"
   ]
  },
  {
   "cell_type": "markdown",
   "metadata": {
    "id": "BagOMyPFlzvk"
   },
   "source": [
    "#### Connect all the components and test the system by generating Hebrew text and hearing Roboshaul speak it out loud\n",
    "- Define input text\n",
    "- Download models"
   ]
  },
  {
   "cell_type": "code",
   "execution_count": null,
   "metadata": {
    "id": "p5gmR6hSlzvl"
   },
   "outputs": [],
   "source": [
    "# This is the text that will be created as audio, feel free to change it ♡\n",
    "input_text =  \"אַתֶּם הֶאֱזַנְתֶּם לְחַיוֹת כִּיס, הַפּוֹדְקָאסְט הַכַּלְכָּלִי שֶׁל כָּאן.\" "
   ]
  },
  {
   "cell_type": "markdown",
   "metadata": {
    "id": "2869s6L3rCWA"
   },
   "source": [
    "#### Download the trained version of the Roboshaul TTS model\n",
    "Trained on 4 hours of Shaul Amsterdamski's voice + transcripts"
   ]
  },
  {
   "cell_type": "code",
   "execution_count": null,
   "metadata": {
    "colab": {
     "base_uri": "https://localhost:8080/"
    },
    "id": "XTLftcI-lzvl",
    "outputId": "7f65c486-f01f-4ced-c4f0-3b1271e0655f"
   },
   "outputs": [],
   "source": [
    "# tts model:\n",
    "model_path = Path('tts_model')\n",
    "model_path.mkdir(exist_ok=True)\n",
    "model_pth_path = model_path / 'saspeech_nikud_7350.pth'\n",
    "model_config_path = model_path / 'config_overflow.json'\n",
    "\n",
    "download_file_from_gdrive('1dExa0AZqmyjz8rSZz1noyQY9aF7dR8ew', model_pth_path)\n",
    "download_file_from_gdrive('1eK1XR_ZwuUy4yWh80nui-q5PBifJsYfy', model_config_path)"
   ]
  },
  {
   "cell_type": "markdown",
   "metadata": {
    "id": "yKlBvt0srMj5"
   },
   "source": [
    "#### Download the trained version of the Mel-to-wav model\n",
    "Trained on 30 hours of Shaul Amsterdamski's voice"
   ]
  },
  {
   "cell_type": "code",
   "execution_count": null,
   "metadata": {
    "colab": {
     "base_uri": "https://localhost:8080/"
    },
    "id": "OGKH0blQlzvl",
    "outputId": "eb1121ba-1429-426a-e6c3-dfacb36bcd18"
   },
   "outputs": [],
   "source": [
    "# Mel-to-wav:\n",
    "vocoder_path = Path('hifigan_model')\n",
    "vocoder_path.mkdir(exist_ok=True)\n",
    "vocoder_pth_path = vocoder_path / 'checkpoint_500000.pth'\n",
    "vocoder_config_path = vocoder_path / 'config_hifigan.json'\n",
    "\n",
    "download_file_from_gdrive('1XdmRRHjZ_eZOFKoAQgQ8wivrLDJnNDkh', vocoder_pth_path)\n",
    "download_file_from_gdrive('1An6cTCYkxXWhagIJe3NGkoP8n2CQWQ-3', vocoder_config_path)"
   ]
  },
  {
   "cell_type": "code",
   "execution_count": null,
   "metadata": {
    "colab": {
     "base_uri": "https://localhost:8080/"
    },
    "id": "bOwimmb4lzvl",
    "outputId": "50233a17-d382-412c-d788-dc6df4b71163"
   },
   "outputs": [],
   "source": [
    "# Where will the outputs be saved?\n",
    "output_folder = \"outputs\"\n",
    "\n",
    "if not os.path.exists(output_folder):\n",
    "    os.makedirs(output_folder)\n",
    "    print(f\"Folder named {output_folder} created.\")\n",
    "else:\n",
    "    print(f\"Folder named {output_folder} already exists.\")"
   ]
  },
  {
   "cell_type": "code",
   "execution_count": null,
   "metadata": {
    "id": "d2Bs-Ma_lzvl"
   },
   "outputs": [],
   "source": [
    "def escape_dquote(s):\n",
    "    return s.replace('\"', r'\\\"')\n",
    "\n",
    "global_p = None\n",
    "\n",
    "def run_model(text, output_wav_path):\n",
    "    global global_p\n",
    "    call_tts_string = f\"\"\"CUDA_VISIBLE_DEVICES=0 tts --text \"{escape_dquote(text)}\" \\\n",
    "        --model_path {model_pth_path} \\\n",
    "        --config_path {model_config_path} \\\n",
    "        --vocoder_path {vocoder_pth_path} \\\n",
    "        --vocoder_config_path {vocoder_config_path} \\\n",
    "        --out_path \"{output_wav_path}\" \"\"\"\n",
    "    try:\n",
    "        print(call_tts_string)\n",
    "        p = subprocess.Popen(['bash','-c',call_tts_string], \n",
    "                             stdout=subprocess.PIPE, stderr=subprocess.PIPE, start_new_session=True)\n",
    "        global_p = p\n",
    "        # throw an exception if the called process exited with an error\n",
    "        stdout, stderr = p.communicate(timeout=60)\n",
    "        print(stdout.decode('utf-8'))\n",
    "        print(stderr.decode('utf-8'))\n",
    "    except subprocess.TimeoutExpired as e:\n",
    "        print(f'Timeout for {call_tts_string} (60s) expired', file=sys.stderr)\n",
    "        print('Terminating the whole process group...', file=sys.stderr)\n",
    "        os.killpg(os.getpgid(p.pid), signal.SIGTERM)"
   ]
  },
  {
   "cell_type": "code",
   "execution_count": null,
   "metadata": {
    "colab": {
     "base_uri": "https://localhost:8080/"
    },
    "id": "YfNFaKGplzvl",
    "outputId": "fbdd8877-fc11-44a5-8277-0a89fc84bef2"
   },
   "outputs": [],
   "source": [
    "run_model(input_text, output_folder + \"/output.wav\")"
   ]
  },
  {
   "cell_type": "markdown",
   "metadata": {
    "id": "9p8SfvAulzvl"
   },
   "source": [
    "### Listen to the result 👾"
   ]
  },
  {
   "cell_type": "code",
   "execution_count": null,
   "metadata": {
    "colab": {
     "base_uri": "https://localhost:8080/",
     "height": 75
    },
    "id": "Tgs9plxjlzvm",
    "outputId": "9e1cc9fb-bd5b-47a3-91fb-9c88f588ed40"
   },
   "outputs": [],
   "source": [
    "Audio(filename=output_folder + '/output.wav')"
   ]
  }
 ],
 "metadata": {
  "colab": {
   "provenance": []
  },
  "kernelspec": {
   "display_name": "Python 3 (ipykernel)",
   "language": "python",
   "name": "python3"
  },
  "language_info": {
   "codemirror_mode": {
    "name": "ipython",
    "version": 3
   },
   "file_extension": ".py",
   "mimetype": "text/x-python",
   "name": "python",
   "nbconvert_exporter": "python",
   "pygments_lexer": "ipython3",
   "version": "3.9.16"
  }
 },
 "nbformat": 4,
 "nbformat_minor": 4
}
