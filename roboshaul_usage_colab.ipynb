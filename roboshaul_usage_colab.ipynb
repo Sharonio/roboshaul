{
 "cells": [
  {
   "cell_type": "markdown",
   "metadata": {},
   "source": [
    "### Hello there! 👋\n",
    "\n",
    "If you're interested in using Roboshaul to generate Hebrew text-to-speech, you've come to the right place! I'll guide you through the steps so that you can start using it in no time, even if you're new to machine learning.\n",
    "\n",
    "Here are the steps we'll follow in this tutorial:\n",
    "\n",
    "1. Import necessary Python libraries\n",
    "2. Download the trained version of the Roboshaul TTS model\n",
    "3. Download the trained version of the spectrogram-to-wav model, trained on Shaul Amsterdamski's voice\n",
    "4. Connect all the components and test the system by generating Hebrew text and hearing Roboshaul speak it out loud\n",
    "\n",
    "Let's get started! in the end you'll be able to use our trained model, and have results similar to the ones in this demo page:\n",
    "https://anonymous19283746.github.io/saspeech/"
   ]
  },
  {
   "cell_type": "markdown",
   "metadata": {},
   "source": [
    "The infratructure we will be using is Coqui TTS\n",
    "and you can learn more about it here: \n",
    "https://github.com/coqui-ai/TTS"
   ]
  },
  {
   "cell_type": "code",
   "execution_count": null,
   "metadata": {},
   "outputs": [],
   "source": [
    "!git clone https://github.com/shenberg/TTS\n",
    "!pip install Cython # necessary for successful install of Coqui TTS\n",
    "!pip install -e TTS"
   ]
  },
  {
   "cell_type": "markdown",
   "metadata": {},
   "source": [
    "#### Import necessary Python libraries"
   ]
  },
  {
   "cell_type": "code",
   "execution_count": null,
   "metadata": {},
   "outputs": [],
   "source": [
    "import os\n",
    "import subprocess\n",
    "from pathlib import Path\n",
    "from IPython.display import Audio"
   ]
  },
  {
   "cell_type": "markdown",
   "metadata": {},
   "source": [
    "#### Download the trained version of the Roboshaul TTS model\n",
    "Trained on 4 hours of Shaul Amsterdamski's voice + transcripts\n",
    "\n",
    "There a 2 files there, download both of them into this location (I called mine `roboshaul`) under a folder called \"`tts_model`\"\n",
    "\n",
    "https://drive.google.com/drive/folders/1C7xfx8p8iTaF73bvfvIdkGDPv01wvjmx"
   ]
  },
  {
   "cell_type": "markdown",
   "metadata": {},
   "source": [
    "#### Download the trained version of the Mel-to-wav model\n",
    "Trained on 30 hours of Shaul Amsterdamski's voice\n",
    "\n",
    "There a 2 files there, download both of them into this location (I called mine `roboshaul`) under a folder called \"`hifigan_model`\"\n",
    "\n",
    "https://drive.google.com/drive/folders/1SC6IQtdXH1SjHSgLGY1iZtl9nwDGQ072"
   ]
  },
  {
   "cell_type": "markdown",
   "metadata": {},
   "source": [
    "#### Adding diacritics (Nikud) to Hebrew text\n",
    "Our input has to have Nikud in order to turn Hebrew text into good sounding audio"
   ]
  },
  {
   "cell_type": "markdown",
   "metadata": {},
   "source": [
    "There are 2 places where you can add Nikud easily online:\n",
    "- https://nakdan.dicta.org.il/\n",
    "- https://www.nakdan.com/\n",
    "\n",
    "(When we trained our TTS model we used this repository to automate the process: https://github.com/elazarg/nakdimon (give it a ⭐️ on GitHub), by the way, if you are advanced in coding and would want to help this repository - integrating the Nikud process to this notebook can be a meanigful contribution)"
   ]
  },
  {
   "cell_type": "markdown",
   "metadata": {},
   "source": [
    "#### Connect all the components and test the system by generating Hebrew text and hearing Roboshaul speak it out loud\n",
    "- Define input text\n",
    "- Load models"
   ]
  },
  {
   "cell_type": "code",
   "execution_count": null,
   "metadata": {},
   "outputs": [],
   "source": [
    "# This is the text that will be created as audio, feel free to change it ♡\n",
    "input_text =  \"אַתֶּם הֶאֱזַנְתֶּם לְחַיוֹת כִּיס, הַפּוֹדְקָאסְט הַכַּלְכָּלִי שֶׁל כָּאן.\" "
   ]
  },
  {
   "cell_type": "code",
   "execution_count": null,
   "metadata": {},
   "outputs": [],
   "source": [
    "# tts model:\n",
    "model_pth_path = Path('tts_model/saspeech_nikud_7350.pth')\n",
    "model_config_path = model_pth_path.with_name('config_overflow.json')"
   ]
  },
  {
   "cell_type": "code",
   "execution_count": null,
   "metadata": {},
   "outputs": [],
   "source": [
    "# Mel-to-wav:\n",
    "vocoder_pth_path = Path('hifigan_model/checkpoint_500000.pth')\n",
    "vocoder_config_path = Path('hifigan_model/config_hifigan.json')"
   ]
  },
  {
   "cell_type": "code",
   "execution_count": null,
   "metadata": {},
   "outputs": [],
   "source": [
    "# Where will the outputs be saved?\n",
    "output_folder = \"outputs\"\n",
    "\n",
    "if not os.path.exists(output_folder):\n",
    "    os.makedirs(output_folder)\n",
    "    print(f\"Folder named {output_folder} created.\")\n",
    "else:\n",
    "    print(f\"Folder named {output_folder} already exists.\")"
   ]
  },
  {
   "cell_type": "code",
   "execution_count": null,
   "metadata": {},
   "outputs": [],
   "source": [
    "def escape_dquote(s):\n",
    "    return s.replace('\"', r'\\\"')\n",
    "\n",
    "global_p = None\n",
    "\n",
    "def run_model(text, output_wav_path):\n",
    "    global global_p\n",
    "    call_tts_string = f\"\"\"CUDA_VISIBLE_DEVICES=0 tts --text \"{escape_dquote(text)}\" \\\n",
    "        --model_path {model_pth_path} \\\n",
    "        --config_path {model_config_path} \\\n",
    "        --vocoder_path {vocoder_pth_path} \\\n",
    "        --vocoder_config_path {vocoder_config_path} \\\n",
    "        --out_path \"{output_wav_path}\" \"\"\"\n",
    "    try:\n",
    "        print(call_tts_string)\n",
    "        p = subprocess.Popen(['bash','-c',call_tts_string], start_new_session=True)\n",
    "        global_p = p\n",
    "        # throw an exception if the called process exited with an error\n",
    "        p.communicate(timeout=60)\n",
    "    except subprocess.TimeoutExpired as e:\n",
    "        print(f'Timeout for {call_tts_string} (60s) expired', file=sys.stderr)\n",
    "        print('Terminating the whole process group...', file=sys.stderr)\n",
    "        os.killpg(os.getpgid(p.pid), signal.SIGTERM)"
   ]
  },
  {
   "cell_type": "code",
   "execution_count": null,
   "metadata": {},
   "outputs": [],
   "source": [
    "run_model(input_text, output_folder + \"/output.wav\")"
   ]
  },
  {
   "cell_type": "markdown",
   "metadata": {},
   "source": [
    "### Listen to the result 👾"
   ]
  },
  {
   "cell_type": "code",
   "execution_count": null,
   "metadata": {},
   "outputs": [],
   "source": [
    "Audio(filename=output_folder + '/output.wav')"
   ]
  }
 ],
 "metadata": {
  "kernelspec": {
   "display_name": "Python 3 (ipykernel)",
   "language": "python",
   "name": "python3"
  },
  "language_info": {
   "codemirror_mode": {
    "name": "ipython",
    "version": 3
   },
   "file_extension": ".py",
   "mimetype": "text/x-python",
   "name": "python",
   "nbconvert_exporter": "python",
   "pygments_lexer": "ipython3",
   "version": "3.9.16"
  }
 },
 "nbformat": 4,
 "nbformat_minor": 4
}
